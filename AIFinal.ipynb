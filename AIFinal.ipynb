{
  "cells": [
    {
      "cell_type": "markdown",
      "metadata": {
        "id": "view-in-github",
        "colab_type": "text"
      },
      "source": [
        "<a href=\"https://colab.research.google.com/github/sloaneeliza/RecommenderSys/blob/main/AIFinal.ipynb\" target=\"_parent\"><img src=\"https://colab.research.google.com/assets/colab-badge.svg\" alt=\"Open In Colab\"/></a>"
      ]
    },
    {
      "cell_type": "code",
      "execution_count": null,
      "metadata": {
        "colab": {
          "base_uri": "https://localhost:8080/"
        },
        "id": "4dMUvZrch2Yg",
        "outputId": "5bb6b6fd-0f6b-46f7-d464-df9c24c08264"
      },
      "outputs": [
        {
          "output_type": "stream",
          "name": "stdout",
          "text": [
            "Path to dataset files: /root/.cache/kagglehub/datasets/datasnaek/youtube-new/versions/115\n"
          ]
        }
      ],
      "source": [
        "import kagglehub\n",
        "import pandas as pd\n",
        "import os\n",
        "\n",
        "# Trending Youtube Video Dataset From Kaggle\n",
        "# Download latest version\n",
        "path = kagglehub.dataset_download(\"datasnaek/youtube-new\")\n",
        "\n",
        "print(\"Path to dataset files:\", path)"
      ]
    },
    {
      "cell_type": "code",
      "execution_count": null,
      "metadata": {
        "colab": {
          "base_uri": "https://localhost:8080/"
        },
        "id": "Sj7P2Wx1h_vb",
        "outputId": "b891b1a8-cee2-4aa3-e734-86665c21fd07"
      },
      "outputs": [
        {
          "output_type": "stream",
          "name": "stdout",
          "text": [
            "Files in dataset: ['US_category_id.json', 'MX_category_id.json', 'RU_category_id.json', 'GBvideos.csv', 'FR_category_id.json', 'CA_category_id.json', 'MXvideos.csv', 'RUvideos.csv', 'INvideos.csv', 'JP_category_id.json', 'JPvideos.csv', 'KR_category_id.json', 'USvideos.csv', 'DE_category_id.json', 'KRvideos.csv', 'FRvideos.csv', 'CAvideos.csv', 'IN_category_id.json', 'DEvideos.csv', 'GB_category_id.json']\n"
          ]
        }
      ],
      "source": [
        "files = os.listdir(path)\n",
        "print(\"Files in dataset:\", files)"
      ]
    },
    {
      "cell_type": "code",
      "execution_count": null,
      "metadata": {
        "colab": {
          "base_uri": "https://localhost:8080/"
        },
        "collapsed": true,
        "id": "P_dO22IbiuSk",
        "outputId": "4ade73b8-f6bd-457e-d967-1ec06fee79c3"
      },
      "outputs": [
        {
          "output_type": "stream",
          "name": "stdout",
          "text": [
            "      video_id trending_date  \\\n",
            "0  2kyS6SvSYSE      17.14.11   \n",
            "1  1ZAPwfrtAFY      17.14.11   \n",
            "2  5qpjK5DgCt4      17.14.11   \n",
            "3  puqaWrEC7tY      17.14.11   \n",
            "4  d380meD0W0M      17.14.11   \n",
            "\n",
            "                                               title          channel_title  \\\n",
            "0                 WE WANT TO TALK ABOUT OUR MARRIAGE           CaseyNeistat   \n",
            "1  The Trump Presidency: Last Week Tonight with J...        LastWeekTonight   \n",
            "2  Racist Superman | Rudy Mancuso, King Bach & Le...           Rudy Mancuso   \n",
            "3                   Nickelback Lyrics: Real or Fake?  Good Mythical Morning   \n",
            "4                           I Dare You: GOING BALD!?               nigahiga   \n",
            "\n",
            "   category_id              publish_time  \\\n",
            "0           22  2017-11-13T17:13:01.000Z   \n",
            "1           24  2017-11-13T07:30:00.000Z   \n",
            "2           23  2017-11-12T19:05:24.000Z   \n",
            "3           24  2017-11-13T11:00:04.000Z   \n",
            "4           24  2017-11-12T18:01:41.000Z   \n",
            "\n",
            "                                                tags    views   likes  \\\n",
            "0                                    SHANtell martin   748374   57527   \n",
            "1  last week tonight trump presidency|\"last week ...  2418783   97185   \n",
            "2  racist superman|\"rudy\"|\"mancuso\"|\"king\"|\"bach\"...  3191434  146033   \n",
            "3  rhett and link|\"gmm\"|\"good mythical morning\"|\"...   343168   10172   \n",
            "4  ryan|\"higa\"|\"higatv\"|\"nigahiga\"|\"i dare you\"|\"...  2095731  132235   \n",
            "\n",
            "   dislikes  comment_count                                  thumbnail_link  \\\n",
            "0      2966          15954  https://i.ytimg.com/vi/2kyS6SvSYSE/default.jpg   \n",
            "1      6146          12703  https://i.ytimg.com/vi/1ZAPwfrtAFY/default.jpg   \n",
            "2      5339           8181  https://i.ytimg.com/vi/5qpjK5DgCt4/default.jpg   \n",
            "3       666           2146  https://i.ytimg.com/vi/puqaWrEC7tY/default.jpg   \n",
            "4      1989          17518  https://i.ytimg.com/vi/d380meD0W0M/default.jpg   \n",
            "\n",
            "   comments_disabled  ratings_disabled  video_error_or_removed  \\\n",
            "0              False             False                   False   \n",
            "1              False             False                   False   \n",
            "2              False             False                   False   \n",
            "3              False             False                   False   \n",
            "4              False             False                   False   \n",
            "\n",
            "                                         description  \n",
            "0  SHANTELL'S CHANNEL - https://www.youtube.com/s...  \n",
            "1  One year after the presidential election, John...  \n",
            "2  WATCH MY PREVIOUS VIDEO ▶ \\n\\nSUBSCRIBE ► http...  \n",
            "3  Today we find out if Link is a Nickelback amat...  \n",
            "4  I know it's been a while since we did this sho...  \n"
          ]
        }
      ],
      "source": [
        "file_to_load = os.path.join(path, 'USvideos.csv')\n",
        "if 'USvideos.csv' in files:\n",
        "    data = pd.read_csv(file_to_load)\n",
        "    print(data.head())\n",
        "else:\n",
        "    print(\"The expected file 'USvideos.csv' is not in the dataset.\")"
      ]
    },
    {
      "cell_type": "code",
      "execution_count": null,
      "metadata": {
        "colab": {
          "base_uri": "https://localhost:8080/"
        },
        "id": "0IM14GSnGtua",
        "outputId": "cf46b5e0-3824-42ae-db9b-eb03c6b70a55"
      },
      "outputs": [
        {
          "output_type": "stream",
          "name": "stderr",
          "text": [
            "[nltk_data] Downloading package stopwords to /root/nltk_data...\n",
            "[nltk_data]   Package stopwords is already up-to-date!\n"
          ]
        },
        {
          "output_type": "stream",
          "name": "stdout",
          "text": [
            "                                               title  \\\n",
            "0                 WE WANT TO TALK ABOUT OUR MARRIAGE   \n",
            "1  The Trump Presidency: Last Week Tonight with J...   \n",
            "2  Racist Superman | Rudy Mancuso, King Bach & Le...   \n",
            "3                   Nickelback Lyrics: Real or Fake?   \n",
            "4                           I Dare You: GOING BALD!?   \n",
            "\n",
            "                                  title_preprocessed  \n",
            "0                             [want, talk, marriage]  \n",
            "1  [trump, presidency, last, week, tonight, john,...  \n",
            "2  [racist, superman, rudy, mancuso, king, bach, ...  \n",
            "3                   [nickelback, lyrics, real, fake]  \n",
            "4                                [dare, going, bald]  \n"
          ]
        }
      ],
      "source": [
        "# Preprocessing\n",
        "\n",
        "import pandas as pd\n",
        "import string\n",
        "from nltk.corpus import stopwords\n",
        "import nltk\n",
        "\n",
        "#download stopwords - Jessica\n",
        "nltk.download('stopwords')\n",
        "stop_words = set(stopwords.words('english'))\n",
        "\n",
        "\n",
        "#load the CSV file\n",
        "\"\"\"\n",
        "file_path = '/content/USvideos.csv'    #we realized with using the kagglehub import that we do not\n",
        "data = pd.read_csv(file_path)          #need to import our dataset, but instead, use kagglehub to download the dataset - Sloane, Jessica, Persabella\n",
        "\"\"\"\n",
        "\n",
        "#Preprocessing function, removes punctuations and stopwords from our video titles - Sloane\n",
        "def preprocess_text_simple(text):\n",
        "    text = text.lower()\n",
        "    text = ''.join([char for char in text if char not in string.punctuation])\n",
        "    tokens = text.split()\n",
        "    tokens = [word for word in tokens if word not in stop_words]\n",
        "    return tokens\n",
        "\n",
        "#set preprocessing to the 'title' column of our csv file & remove duplications - Jessica\n",
        "data['title_preprocessed'] = data['title'].apply(preprocess_text_simple)\n",
        "data = data.drop_duplicates(subset='title', keep='first')\n",
        "\n",
        "print(data[['title', 'title_preprocessed']].head())   #preview\n"
      ]
    },
    {
      "cell_type": "code",
      "execution_count": null,
      "metadata": {
        "colab": {
          "base_uri": "https://localhost:8080/"
        },
        "id": "4JHFBnUul3nB",
        "outputId": "a79f501f-dabe-45f2-c1d3-42d392f9970b"
      },
      "outputs": [
        {
          "output_type": "stream",
          "name": "stdout",
          "text": [
            "ML Recommendations for: Officials Investigating Hawaii Missile False Alarm | NBC News\n",
            "                                                   title   views  \\\n",
            "12479  Officials Investigating Hawaii Missile False A...   27347   \n",
            "11807             Hawaii gets false missile strike alert  197815   \n",
            "34954  Officials Warn Largest Hawaii Volcano Eruption...  361157   \n",
            "26807                                    Cat Alarm Clock  207312   \n",
            "13667  Women's March Rallies From Around The U.S. | N...   43649   \n",
            "3202     Matt Lauer Has Been Fired From NBC News | TODAY  971123   \n",
            "11076  What To Expect At The 2018 Golden Globes | NBC...    6826   \n",
            "30583  Funeral For Former First Lady Barbara Bush | N...  372488   \n",
            "29430     Rapper Meek Mill Speaks Out | NBC Nightly News  120802   \n",
            "21375         Reverend Billy Graham's Funeral | NBC News  324708   \n",
            "\n",
            "       similarity_score  \n",
            "12479          1.000000  \n",
            "11807          0.446395  \n",
            "34954          0.357870  \n",
            "26807          0.252928  \n",
            "13667          0.200086  \n",
            "3202           0.188383  \n",
            "11076          0.183245  \n",
            "30583          0.175879  \n",
            "29430          0.172116  \n",
            "21375          0.168811  \n",
            "Popular Recommendations:\n",
            "                                                   title     views\n",
            "23824              Maluma - El Préstamo (Official Video)  48431654\n",
            "35550                BTS (방탄소년단) 'FAKE LOVE' Official MV  39349927\n",
            "28605                            TWICE What is Love? M/V  38873543\n",
            "3200   Marvel Studios' Avengers: Infinity War Officia...  37736281\n",
            "70           Ed Sheeran - Perfect (Official Music Video)  33523622\n",
            "33351  Childish Gambino - This Is America (Official V...  31648454\n",
            "30750                      VENOM - Official Trailer (HD)  27973210\n",
            "4600   YouTube Rewind: The Shape of 2017 | #YouTubeRe...  24782158\n",
            "28624                              Drake - Nice For What  24421448\n",
            "38161  Sanju | Official Trailer | Ranbir Kapoor | Raj...  23758250\n"
          ]
        }
      ],
      "source": [
        "# ML recommender system using cosine similarity\n",
        "import pandas as pd\n",
        "from sklearn.feature_extraction.text import TfidfVectorizer\n",
        "from sklearn.metrics.pairwise import cosine_similarity\n",
        "import random\n",
        "\n",
        "# Load data - Jessica\n",
        "data['title_preprocessed'] = data['title'].apply(preprocess_text_simple)\n",
        "data = data.drop_duplicates(subset='title', keep='first')\n",
        "\n",
        "# Vectorizing - Jessica\n",
        "vectorizer = TfidfVectorizer(stop_words='english')\n",
        "tfidf_matrix = vectorizer.fit_transform(data['title_preprocessed'].apply(lambda x: ' '.join(x)))\n",
        "\n",
        "# Cosine similarity between the titles - Jessica\n",
        "cosine_sim = cosine_similarity(tfidf_matrix, tfidf_matrix)\n",
        "\n",
        "# Recommendation function for ML model - Jessica\n",
        "def recommend_videos_by_title(video_index, num_recommendations=10):\n",
        "    # Get similarity scores for the video\n",
        "    sim_scores = list(enumerate(cosine_sim[video_index]))\n",
        "    # Sort videos by similarity score\n",
        "    sim_scores = sorted(sim_scores, key=lambda x: x[1], reverse=True)\n",
        "    # Get the indices of the most similar videos\n",
        "    sim_scores = sim_scores[1:num_recommendations + 1]\n",
        "    # Video details\n",
        "    video_indices = [i[0] for i in sim_scores]\n",
        "    recommendations = data.iloc[video_indices][['title', 'views']].copy()\n",
        "    # recommendations['similarity_score'] = [i[1] for i in sim_scores]\n",
        "    recommendations['similarity_score'] = [sim_scores[i][1] for i in range(len(sim_scores))]\n",
        "    recommendations = recommendations[['title', 'views', 'similarity_score']]\n",
        "    return recommendations\n",
        "\n",
        "# Top 10 recommendations for random video chosen - Jessica & Persabella\n",
        "random_video_index = random.randint(0, len(data) - 1)\n",
        "print(\"ML Recommendations for:\", data.iloc[random_video_index]['title'])\n",
        "\n",
        "num_recommendations = 10\n",
        "recommendations = recommend_videos_by_title(random_video_index, num_recommendations)\n",
        "ml_recommendations = recommend_videos_by_title(random_video_index)\n",
        "print(ml_recommendations)\n",
        "\n",
        "# Takes the data & the # of recommendations as input using the videos with the highest view\n",
        "# counts & returns a DataFrame contianing the titles and view counts - Persabella\n",
        "def recommend_popular_videos(data, num_recommendations=10):\n",
        "    return data.nlargest(num_recommendations, 'views')[['title', 'views']]\n",
        "\n",
        "print(\"Popular Recommendations:\")\n",
        "print(recommend_popular_videos(data, num_recommendations))\n"
      ]
    },
    {
      "cell_type": "code",
      "source": [
        "#NN Model - Recommendation System\n",
        "import tensorflow as tf\n",
        "from tensorflow.keras.models import Model\n",
        "from tensorflow.keras.layers import Input, Embedding, LSTM, Dense, Dropout, Flatten, Concatenate\n",
        "from tensorflow.keras.regularizers import l2\n",
        "from tensorflow.keras.callbacks import EarlyStopping\n",
        "from sklearn.model_selection import train_test_split\n",
        "from sklearn.preprocessing import LabelEncoder, MinMaxScaler, normalize\n",
        "from sklearn.metrics.pairwise import cosine_similarity\n",
        "import numpy as np\n",
        "import random\n",
        "\n",
        "#preparing the data that we preprocessed in our previous Preprocessing cell - Sloane & Persabella\n",
        "tokenizer = tf.keras.preprocessing.text.Tokenizer()\n",
        "tokenizer.fit_on_texts(data['title_preprocessed'])\n",
        "data['title_seq'] = tokenizer.texts_to_sequences(data['title_preprocessed'])\n",
        "\n",
        "max_sequence_length = max(data['title_seq'].apply(len))\n",
        "data['title_seq'] = tf.keras.preprocessing.sequence.pad_sequences(data['title_seq'], maxlen=max_sequence_length, padding='post').tolist()\n",
        "\n",
        "numerical_features = ['views', 'likes', 'dislikes', 'comment_count']  #example features - sloane\n",
        "scaler = MinMaxScaler()\n",
        "X_numerical = scaler.fit_transform(data[numerical_features].values)\n",
        "X_text = np.array(data['title_seq'].tolist())\n",
        "y = LabelEncoder().fit_transform(data['category_id'])  #encode categories as integers - sloane\n",
        "\n",
        "#train/test split - Sloane & Jessica\n",
        "X_train_num, X_test_num, X_train_text, X_test_text, y_train, y_test = train_test_split(\n",
        "    X_numerical, X_text, y, test_size=0.2\n",
        ")\n",
        "\n",
        "#define NN model - Persabella\n",
        "numerical_input = Input(shape=(len(numerical_features),), name='Numerical_Input')\n",
        "text_input = Input(shape=(max_sequence_length,), name='Text_Input')\n",
        "\n",
        "#Embedding layer - Persabella\n",
        "vocab_size = len(tokenizer.word_index) + 1\n",
        "embedding_dim = 128\n",
        "text_embedding = Embedding(input_dim=vocab_size, output_dim=embedding_dim, input_length=max_sequence_length)(text_input)\n",
        "\n",
        "# LSTM with regularization and dropout\n",
        "text_lstm = LSTM(32, kernel_regularizer=l2(0.001))(text_embedding)\n",
        "\n",
        "#Dense layers for numerical features - Persabella\n",
        "dense_numerical = Dense(32, activation='relu', kernel_regularizer=l2(0.001))(numerical_input)\n",
        "\n",
        "#Merge inputs - Persabella and Sloane\n",
        "merged = Concatenate()([text_lstm, dense_numerical])\n",
        "hidden = Dense(64, activation='relu', kernel_regularizer=l2(0.001))(merged)\n",
        "hidden = Dropout(0.5)(hidden)  #dropout for regularization\n",
        "output = Dense(len(set(y)), activation='softmax')(hidden)\n",
        "\n",
        "# Compile model with reduced learning rate\n",
        "model = Model(inputs=[numerical_input, text_input], outputs=output)\n",
        "model.compile(optimizer=tf.keras.optimizers.Adam(learning_rate=0.0001),\n",
        "              loss='sparse_categorical_crossentropy',\n",
        "              metrics=['accuracy'])\n",
        "\n",
        "#early stopping - Sloane\n",
        "early_stopping = EarlyStopping(monitor='val_loss', patience=3, restore_best_weights=True)\n",
        "\n",
        "#Train model\n",
        "history = model.fit(\n",
        "    [X_train_num, X_train_text], y_train,\n",
        "    validation_split=0.2,  #Increased validation split\n",
        "    epochs=10,             #change epoch to potentially help with overfitting - Sloane, Jessica\n",
        "    batch_size=32,\n",
        "    callbacks=[early_stopping]\n",
        ")\n",
        "\n",
        "#Generate embeddings - Persabella\n",
        "def generate_embedding(text_seq, num_features):\n",
        "    return model.predict([num_features, text_seq], verbose=0)[0]\n",
        "\n",
        "#recommendation system - Sloane & Jessica\n",
        "def recommend_videos_nn(video_index, num_recommendations=10):\n",
        "    target_embedding = generate_embedding(\n",
        "        np.expand_dims(X_text[video_index], axis=0),\n",
        "        np.expand_dims(X_numerical[video_index], axis=0)\n",
        "    )\n",
        "    target_embedding = normalize([target_embedding])[0]\n",
        "\n",
        "    print(f\"Target Title: {data.iloc[video_index]['title']}\")  #prints the title of the target video - Sloane\n",
        "\n",
        "    similarities = []  #computing cosine similarity - Sloane\n",
        "    batch_size = 500\n",
        "    for i in range(0, len(X_text), batch_size):\n",
        "        batch_embeddings = model.predict(\n",
        "            [X_numerical[i:i + batch_size], X_text[i:i + batch_size]], verbose=0\n",
        "        )\n",
        "        batch_embeddings = normalize(batch_embeddings)\n",
        "        batch_similarities = cosine_similarity([target_embedding], batch_embeddings)[0]\n",
        "        similarities.extend(batch_similarities)\n",
        "\n",
        "    #sort titles and get the similar titles - Sloane\n",
        "    similarity_scores = np.array(similarities)\n",
        "    similar_indices = similarity_scores.argsort()[::-1][1:num_recommendations + 1]\n",
        "    recommendations = data.iloc[similar_indices][['title']].copy()\n",
        "    recommendations['similarity_score'] = similarity_scores[similar_indices]\n",
        "\n",
        "    #print the recommendations and their corresponding scores - Sloane\n",
        "    for i, idx in enumerate(similar_indices):\n",
        "        recommended_title = data.iloc[idx]['title']\n",
        "\n",
        "    return recommendations\n",
        "\n",
        "#test recommendation system - Sloane\n",
        "random_video_index = random.randint(0, len(X_text) - 1)\n",
        "recommendations_nn = recommend_videos_nn(random_video_index, num_recommendations=10)\n",
        "print(recommendations_nn)\n"
      ],
      "metadata": {
        "colab": {
          "base_uri": "https://localhost:8080/"
        },
        "id": "fgKomvr8xwxR",
        "outputId": "2945e2b3-c56b-465d-b8a8-2e213e372970"
      },
      "execution_count": null,
      "outputs": [
        {
          "output_type": "stream",
          "name": "stdout",
          "text": [
            "Epoch 1/10\n"
          ]
        },
        {
          "output_type": "stream",
          "name": "stderr",
          "text": [
            "/usr/local/lib/python3.10/dist-packages/keras/src/layers/core/embedding.py:90: UserWarning: Argument `input_length` is deprecated. Just remove it.\n",
            "  warnings.warn(\n"
          ]
        },
        {
          "output_type": "stream",
          "name": "stdout",
          "text": [
            "\u001b[1m130/130\u001b[0m \u001b[32m━━━━━━━━━━━━━━━━━━━━\u001b[0m\u001b[37m\u001b[0m \u001b[1m7s\u001b[0m 25ms/step - accuracy: 0.2536 - loss: 2.9034 - val_accuracy: 0.2575 - val_loss: 2.6692\n",
            "Epoch 2/10\n",
            "\u001b[1m130/130\u001b[0m \u001b[32m━━━━━━━━━━━━━━━━━━━━\u001b[0m\u001b[37m\u001b[0m \u001b[1m3s\u001b[0m 22ms/step - accuracy: 0.2514 - loss: 2.6627 - val_accuracy: 0.2575 - val_loss: 2.5576\n",
            "Epoch 3/10\n",
            "\u001b[1m130/130\u001b[0m \u001b[32m━━━━━━━━━━━━━━━━━━━━\u001b[0m\u001b[37m\u001b[0m \u001b[1m3s\u001b[0m 26ms/step - accuracy: 0.2505 - loss: 2.6008 - val_accuracy: 0.2575 - val_loss: 2.5134\n",
            "Epoch 4/10\n",
            "\u001b[1m130/130\u001b[0m \u001b[32m━━━━━━━━━━━━━━━━━━━━\u001b[0m\u001b[37m\u001b[0m \u001b[1m5s\u001b[0m 22ms/step - accuracy: 0.2513 - loss: 2.5597 - val_accuracy: 0.2575 - val_loss: 2.4809\n",
            "Epoch 5/10\n",
            "\u001b[1m130/130\u001b[0m \u001b[32m━━━━━━━━━━━━━━━━━━━━\u001b[0m\u001b[37m\u001b[0m \u001b[1m3s\u001b[0m 23ms/step - accuracy: 0.2501 - loss: 2.5326 - val_accuracy: 0.2575 - val_loss: 2.4576\n",
            "Epoch 6/10\n",
            "\u001b[1m130/130\u001b[0m \u001b[32m━━━━━━━━━━━━━━━━━━━━\u001b[0m\u001b[37m\u001b[0m \u001b[1m6s\u001b[0m 27ms/step - accuracy: 0.2484 - loss: 2.5414 - val_accuracy: 0.2575 - val_loss: 2.4403\n",
            "Epoch 7/10\n",
            "\u001b[1m130/130\u001b[0m \u001b[32m━━━━━━━━━━━━━━━━━━━━\u001b[0m\u001b[37m\u001b[0m \u001b[1m5s\u001b[0m 22ms/step - accuracy: 0.2572 - loss: 2.5012 - val_accuracy: 0.2575 - val_loss: 2.4267\n",
            "Epoch 8/10\n",
            "\u001b[1m130/130\u001b[0m \u001b[32m━━━━━━━━━━━━━━━━━━━━\u001b[0m\u001b[37m\u001b[0m \u001b[1m5s\u001b[0m 24ms/step - accuracy: 0.2564 - loss: 2.4699 - val_accuracy: 0.2575 - val_loss: 2.4062\n",
            "Epoch 9/10\n",
            "\u001b[1m130/130\u001b[0m \u001b[32m━━━━━━━━━━━━━━━━━━━━\u001b[0m\u001b[37m\u001b[0m \u001b[1m4s\u001b[0m 31ms/step - accuracy: 0.2586 - loss: 2.4343 - val_accuracy: 0.2575 - val_loss: 2.3690\n",
            "Epoch 10/10\n",
            "\u001b[1m130/130\u001b[0m \u001b[32m━━━━━━━━━━━━━━━━━━━━\u001b[0m\u001b[37m\u001b[0m \u001b[1m3s\u001b[0m 26ms/step - accuracy: 0.2738 - loss: 2.3474 - val_accuracy: 0.2865 - val_loss: 2.2891\n",
            "Target Title: Twin Shadow - Saturdays (feat HAIM) [Official HD Audio]\n",
            "                                                   title  similarity_score\n",
            "6492   #LightTheWorld Christmas Concert with The Pian...          0.999950\n",
            "91       Taylor Swift - “New Year’s Day” Fan Performance          0.999946\n",
            "694           Kesha - Learn To Let Go in the Live Lounge          0.999925\n",
            "11551           Stray Kids Grrr 총량의 법칙 Performance Video          0.999925\n",
            "14999  Bruno Mars and Cardi B - Finesse (LIVE From Th...          0.999921\n",
            "6414    BLACK THOUGHT FREESTYLES ON FLEX | #FREESTYLE087          0.999920\n",
            "27956            I Let My Subscribers Pick My Hair Color          0.999908\n",
            "13830                    JONGHYUN 종현 '빛이 나 (Shinin’)' MV          0.999906\n",
            "31955          Tom Hiddleston's spot-on Korg impression.          0.999903\n",
            "36749          John Mayer - New Light (Premium Content!)          0.999897\n"
          ]
        }
      ]
    },
    {
      "cell_type": "code",
      "execution_count": null,
      "metadata": {
        "id": "mFItenFqKJ_p",
        "colab": {
          "base_uri": "https://localhost:8080/",
          "height": 472
        },
        "outputId": "bd759153-a9b2-4773-ac50-e3cd1135a669"
      },
      "outputs": [
        {
          "output_type": "stream",
          "name": "stdout",
          "text": [
            "\u001b[1m41/41\u001b[0m \u001b[32m━━━━━━━━━━━━━━━━━━━━\u001b[0m\u001b[37m\u001b[0m \u001b[1m0s\u001b[0m 4ms/step - accuracy: 0.3188 - loss: 2.2627\n"
          ]
        },
        {
          "output_type": "stream",
          "name": "stderr",
          "text": [
            "WARNING:absl:You are saving your model as an HDF5 file via `model.save()` or `keras.saving.save_model(model)`. This file format is considered legacy. We recommend using instead the native Keras format, e.g. `model.save('my_model.keras')` or `keras.saving.save_model(model, 'my_model.keras')`. \n"
          ]
        },
        {
          "output_type": "stream",
          "name": "stdout",
          "text": [
            "NN Test Accuracy: 0.3020913898944855\n"
          ]
        },
        {
          "output_type": "display_data",
          "data": {
            "text/plain": [
              "<Figure size 1200x500 with 2 Axes>"
            ],
            "image/png": "[encoded data removed]"
          },
          "metadata": {}
        },
        {
          "output_type": "stream",
          "name": "stdout",
          "text": [
            "Top contributing words for similarity:\n",
            "['official' 'hd' 'audio' 'feat' 'twin']\n"
          ]
        }
      ],
      "source": [
        "# Evaulate NN model\n",
        "# Save and load model functionality - Persabella\n",
        "results = model.evaluate([X_test_num, X_test_text], y_test)\n",
        "print(f\"NN Test Accuracy: {results[1]}\")\n",
        "\n",
        "model.save('youtube_recommendation_model.h5')\n",
        "\n",
        "\"\"\"\n",
        "loaded_model = tf.keras.models.load_model('youtube_recommendation_model.h5')\n",
        "\n",
        "# Use the loaded model for evaluation or prediction\n",
        "results = loaded_model.evaluate([X_test_num, X_test_text], y_test)\n",
        "\n",
        "# Make predictions\n",
        "predictions = loaded_model.predict([X_test_num, X_test_text])\n",
        "\"\"\"\n",
        "\n",
        "# Visualizing history for training evaluation - Persabella\n",
        "import matplotlib.pyplot as plt\n",
        "\n",
        "plt.figure(figsize=(12, 5))\n",
        "plt.subplot(1, 2, 1)\n",
        "plt.plot(history.history['accuracy'], label='Train Accuracy')\n",
        "plt.plot(history.history['val_accuracy'], label='Validation Accuracy')\n",
        "plt.legend()\n",
        "plt.title('Accuracy')\n",
        "\n",
        "plt.subplot(1, 2, 2)\n",
        "plt.plot(history.history['loss'], label='Train Loss')\n",
        "plt.plot(history.history['val_loss'], label='Validation Loss')\n",
        "plt.legend()\n",
        "plt.title('Loss')\n",
        "\n",
        "plt.show()\n",
        "\n",
        "# this function takes a video index and returns top words that contribute most\n",
        "# to the cosine similarity calculations -Persabella\n",
        "def explain_cosine_similarity(video_index, top_n=5):\n",
        "    vector = tfidf_matrix[video_index]\n",
        "    word_contributions = vectorizer.inverse_transform(vector)[0]\n",
        "    return word_contributions[:top_n]\n",
        "\n",
        "print(\"Top contributing words for similarity:\")\n",
        "print(explain_cosine_similarity(random_video_index))\n",
        "\n"
      ]
    },
    {
      "cell_type": "markdown",
      "source": [
        "We were having issues with neural networks, specifically with the similarity results being perfect 1s or 99.9% (so, essentially 1). We were using cosine similarity to compute similarity scores, so we tried other methods (besides neural networks and cosine similarities) to see what we could get."
      ],
      "metadata": {
        "id": "vrW2xX7qGdaC"
      }
    },
    {
      "cell_type": "code",
      "source": [
        "# Dot-Product method NN - Jessica\n",
        "# Load data\n",
        "data['title_preprocessed'] = data['title'].apply(preprocess_text_simple) #load the preprocess\n",
        "data = data.drop_duplicates(subset='title', keep='first')\n",
        "\n",
        "def recommend_videos_nn(video_index, num_recommendations=10):\n",
        "    # Generate the target embedding\n",
        "    target_embedding = generate_embedding(\n",
        "        np.expand_dims(X_text[video_index], axis=0),\n",
        "        np.expand_dims(X_numerical[video_index], axis=0)\n",
        "    )\n",
        "\n",
        "    print(f\"Recommendations for: {data.iloc[video_index]['title']}\")  # Title of the target video\n",
        "\n",
        "    similarities = []  # To store dot product similarities\n",
        "    batch_size = 1000\n",
        "    for i in range(0, len(X_text), batch_size):\n",
        "        batch_embeddings = model.predict(\n",
        "            [X_numerical[i:i + batch_size], X_text[i:i + batch_size]], verbose=0\n",
        "        )\n",
        "        # Compute dot product between the target and batch embeddings\n",
        "        batch_similarities = np.dot(batch_embeddings, target_embedding.T).flatten()\n",
        "        similarities.extend(batch_similarities)\n",
        "\n",
        "    # Convert to numpy array for sorting\n",
        "    similarity_scores = np.array(similarities)\n",
        "\n",
        "    # Get indices of top recommendations (excluding the target video itself)\n",
        "    similar_indices = similarity_scores.argsort()[::-1][1:num_recommendations + 1]\n",
        "    recommendations = data.iloc[similar_indices][['title', 'views']].copy()\n",
        "    recommendations['similarity_score'] = similarity_scores[similar_indices]\n",
        "\n",
        "    # Format output like ML system\n",
        "    print(recommendations)\n",
        "\n",
        "    return recommendations\n",
        "\n",
        "# Recommendations for a random video\n",
        "random_video_index = random.randint(0, len(X_text) - 1)\n",
        "recommendations_nn = recommend_videos_nn(random_video_index, num_recommendations=10)\n",
        "\n"
      ],
      "metadata": {
        "id": "fAgT7r4t95YK",
        "colab": {
          "base_uri": "https://localhost:8080/"
        },
        "outputId": "2037b00d-f010-4d6f-9b2b-ff4bbc27f2f2"
      },
      "execution_count": null,
      "outputs": [
        {
          "output_type": "stream",
          "name": "stdout",
          "text": [
            "Recommendations for: How to Buy a Suit\n",
            "                                             title     views  similarity_score\n",
            "10000                                    So Sorry.  13305605          0.092955\n",
            "23824        Maluma - El Préstamo (Official Video)  48431654          0.092927\n",
            "70     Ed Sheeran - Perfect (Official Music Video)  33523622          0.092840\n",
            "39149                                  we broke up  16884972          0.092707\n",
            "28605                      TWICE What is Love? M/V  38873543          0.092672\n",
            "16181                              To Our Daughter  20921796          0.092647\n",
            "28624                        Drake - Nice For What  24421448          0.092509\n",
            "23797                                GOT7 Look M/V  14755537          0.092470\n",
            "28557               ZAYN - Let Me (Official Video)  11188755          0.092440\n",
            "23362                      Taylor Swift - Delicate  14820746          0.092407\n"
          ]
        }
      ]
    },
    {
      "cell_type": "markdown",
      "source": [
        "As seen in the above code, I made a system using a neural network model by dot-product instead of cosine similartiy. Unfortunately, I did not get accurate similarity scores and the code would just recommend the same videos\n",
        "\n",
        "-- Jessica"
      ],
      "metadata": {
        "id": "ksDC5IIkGzg7"
      }
    },
    {
      "cell_type": "code",
      "source": [
        "#Recommendations by Euclidean Distance - Sloane\n",
        "import pandas as pd\n",
        "import numpy as np\n",
        "from sklearn.feature_extraction.text import TfidfVectorizer\n",
        "from sklearn.metrics import pairwise_distances\n",
        "import time\n",
        "import random\n",
        "\n",
        "start_time = time.time() #starts a timer so we can see how long it takes for the code to run\n",
        "\n",
        "exclude_titles = [\"Where are we?\", \"ME YOU YOU ME\"]         #these two titles always appeared in the results no\n",
        "data = data[~data['title'].isin(exclude_titles)]            #matter what, so i just removed them entirely - Sloane\n",
        "\n",
        "data['title_preprocessed'] = data['title'].apply(preprocess_text_simple) #load the preprocess\n",
        "data = data.drop_duplicates(subset='title', keep='first')\n",
        "\n",
        "vectorizer = TfidfVectorizer(stop_words='english')  #vectorize the titles\n",
        "title_vectors = vectorizer.fit_transform(data['title_preprocessed'].apply(lambda x: ' '.join(x))).toarray()\n",
        "\n",
        "distances = pairwise_distances(title_vectors, metric='euclidean')\n",
        "\n",
        "similarities = 1 / (1 + distances)  #this converts distance to similarities\n",
        "\n",
        "#recommendation function\n",
        "def recommend_videos_by_title_euclidean(video_index, num_recommendations=10):\n",
        "    sim_scores = list(enumerate(distances[video_index]))\n",
        "    #sort from shortest distance to largest distance\n",
        "    sim_scores = sorted(sim_scores, key=lambda x: x[1])\n",
        "    sim_scores = sim_scores[1:num_recommendations + 1]\n",
        "    video_indices = [i[0] for i in sim_scores]\n",
        "    recommendations = data.iloc[video_indices][['title', 'views']].copy()\n",
        "    recommendations['distance'] = [sim_scores[i][1] for i in range(len(sim_scores))]\n",
        "    recommendations['similarity'] = 1 / (1 + recommendations['distance'])\n",
        "    return recommendations[['title', 'views', 'distance', 'similarity']]\n",
        "\n",
        "\n",
        "random_video_index = random.randint(0, len(data) - 1) #picks a random video\n",
        "print(\"Euclidean Recommendations for:\", data.iloc[random_video_index]['title'])\n",
        "\n",
        "\n",
        "num_recommendations = 10\n",
        "recommendations = recommend_videos_by_title_euclidean(random_video_index, num_recommendations)\n",
        "end_time = time.time() #stops timer after the code completes recommendations\n",
        "print(recommendations)\n",
        "print()\n",
        "print(f\"Time taken: {end_time - start_time:.2f} seconds\")\n"
      ],
      "metadata": {
        "id": "kjSZliWyHSwm",
        "colab": {
          "base_uri": "https://localhost:8080/"
        },
        "outputId": "dbdd1ea4-1ecd-4371-fc0e-c447a8d4fee9"
      },
      "execution_count": null,
      "outputs": [
        {
          "output_type": "stream",
          "name": "stderr",
          "text": [
            "<ipython-input-68-b8f0e8b81ffb>:14: SettingWithCopyWarning: \n",
            "A value is trying to be set on a copy of a slice from a DataFrame.\n",
            "Try using .loc[row_indexer,col_indexer] = value instead\n",
            "\n",
            "See the caveats in the documentation: https://pandas.pydata.org/pandas-docs/stable/user_guide/indexing.html#returning-a-view-versus-a-copy\n",
            "  data['title_preprocessed'] = data['title'].apply(preprocess_text_simple) #load the preprocess\n"
          ]
        },
        {
          "output_type": "stream",
          "name": "stdout",
          "text": [
            "Euclidean Recommendations for: James Arthur - Naked\n",
            "                                                   title    views  distance  \\\n",
            "3135                         James Arthur - Naked Lyrics   443055  0.525592   \n",
            "38371  Marshmello x Juicy J - You Can Cry (Ft. James ...  2008491  1.033470   \n",
            "833     Macklemore’s Naked Justin Bieber Painting | WWHL    31816  1.207853   \n",
            "17381  I Ran Naked Through The Streets of LA! | Shay ...   578843  1.214863   \n",
            "29999                                     James Bay - Us   529440  1.238919   \n",
            "17268           Parson James - Only You (Official Video)    90123  1.269432   \n",
            "37152    We Should Talk About What James Harrison Did...  1408027  1.272965   \n",
            "1304               Parson James - Only You (Lyric Video)    18525  1.279133   \n",
            "19187                              James Bay - Wild Love   188185  1.284238   \n",
            "23771         Oprah Can Make Anyone Cry, Including James   604506  1.296671   \n",
            "\n",
            "       similarity  \n",
            "3135     0.655483  \n",
            "38371    0.491770  \n",
            "833      0.452929  \n",
            "17381    0.451495  \n",
            "29999    0.446644  \n",
            "17268    0.440639  \n",
            "37152    0.439954  \n",
            "1304     0.438763  \n",
            "19187    0.437783  \n",
            "23771    0.435413  \n",
            "\n",
            "Time taken: 15.45 seconds\n"
          ]
        }
      ]
    },
    {
      "cell_type": "markdown",
      "source": [
        "I created a neural network that  calculates similarity scores using Euclidean distance. It actually works, and it appropriately calculates the similarity between the titles!\n",
        "\n",
        "-- Sloane"
      ],
      "metadata": {
        "id": "V8tv94pAKmoS"
      }
    },
    {
      "cell_type": "code",
      "source": [
        "# NN with Manhattan Distance - Persabella\n",
        "def recommend_videos_nn(video_index, num_recommendations=10):\n",
        "    # Generate the target embedding\n",
        "    target_embedding = generate_embedding(\n",
        "        np.expand_dims(X_text[video_index], axis=0),\n",
        "        np.expand_dims(X_numerical[video_index], axis=0)\n",
        "    )\n",
        "\n",
        "    print(f\"Recommendations for: {data.iloc[video_index]['title']}\")  # Title of the target video\n",
        "\n",
        "    similarities = []  # Store Manhattan distance similarities\n",
        "    batch_size = 1000\n",
        "    for i in range(0, len(X_text), batch_size):\n",
        "        batch_embeddings = model.predict(\n",
        "            [X_numerical[i:i + batch_size], X_text[i:i + batch_size]], verbose=0\n",
        "        )\n",
        "        # Compute Manhattan distance and convert to similarity scores\n",
        "        batch_distances = np.sum(np.abs(batch_embeddings - target_embedding), axis=1)\n",
        "        batch_similarities = 1 / (1 + batch_distances)  # Convert distances to similarity scores\n",
        "        similarities.extend(batch_similarities)\n",
        "\n",
        "    # Convert to numpy array for sorting\n",
        "    similarity_scores = np.array(similarities)\n",
        "\n",
        "    # Get indices of top recommendations (excluding the target video itself)\n",
        "    similar_indices = similarity_scores.argsort()[::-1][1:num_recommendations + 1]\n",
        "    recommendations = data.iloc[similar_indices][['title', 'views']].copy()\n",
        "    recommendations['similarity_score'] = similarity_scores[similar_indices]\n",
        "\n",
        "    # Print recommendations in the requested format\n",
        "    print(recommendations)\n",
        "\n",
        "    return recommendations\n",
        "\n",
        "# Generate recommendations for a random video\n",
        "random_video_index = random.randint(0, len(X_text) - 1)\n",
        "recommendations_nn = recommend_videos_nn(random_video_index, num_recommendations=10)\n"
      ],
      "metadata": {
        "id": "BHjWZNPQJlOs",
        "colab": {
          "base_uri": "https://localhost:8080/"
        },
        "outputId": "ec2b8fac-6d90-49c8-e624-db1bd66e47d2"
      },
      "execution_count": null,
      "outputs": [
        {
          "output_type": "stream",
          "name": "stdout",
          "text": [
            "Recommendations for: The Algorithm That Will Keep You Buying On Cyber Monday | Mach | NBC News\n",
            "                                                   title     views  \\\n",
            "10624        [STATION] 엠버 (AMBER) X 루나 (LUNA) 'Lower' MV    753555   \n",
            "4577   Outrageously Rude Burger King Manager Yells at...     35235   \n",
            "1207   Funny Japanese Game Show Slippery Stairs - Jus...    601839   \n",
            "9920          60 Seconds Left - New Year Movie Countdown     25082   \n",
            "16406      Exclusive: Intel's new smart glasses hands-on    435451   \n",
            "18187           Dating on Valentine's Day | Anwar Jibawi   1403969   \n",
            "3270   Los Angeles’s Dangerous Obsession with Car Cha...     41471   \n",
            "5416   Mixing All My Nail Powders Together (for sale ...   2384983   \n",
            "1678   Trump Breaks Silence On Roy Moore And Offers D...      3892   \n",
            "16278                             Intuit | A Giant Story  10008678   \n",
            "\n",
            "       similarity_score  \n",
            "10624          0.992766  \n",
            "4577           0.990131  \n",
            "1207           0.988612  \n",
            "9920           0.988402  \n",
            "16406          0.988144  \n",
            "18187          0.988093  \n",
            "3270           0.988061  \n",
            "5416           0.987482  \n",
            "1678           0.987442  \n",
            "16278          0.986220  \n"
          ]
        }
      ]
    },
    {
      "cell_type": "markdown",
      "source": [
        "When I tried building a neural network with using Manhattan distance to calculate the similarity scores, I only got perfect 1s or scores close to 0.99s.\n",
        "\n",
        "--Persabella"
      ],
      "metadata": {
        "id": "ktQIohLSL_Yr"
      }
    },
    {
      "cell_type": "markdown",
      "source": [
        "**Results From Our 3 Tests**\n",
        "\n",
        "Between Euclidean distance, Dot-product, and Manhattan distance, Euclidean distance was the only neural network method we tried where we got results that were not perfect 1s or 99.9%."
      ],
      "metadata": {
        "id": "6TNENKhNMeWs"
      }
    },
    {
      "cell_type": "markdown",
      "source": [
        "==================================================================================================================="
      ],
      "metadata": {
        "id": "8qMVe3ndP5lK"
      }
    },
    {
      "cell_type": "markdown",
      "source": [
        "I was still curious as to why cosine similarity was giving us difficulty. So I made a small version of our project (as seen below) to experiment with.\n",
        "\n",
        "-- Sloane"
      ],
      "metadata": {
        "id": "rFJJ-7X6QHKL"
      }
    },
    {
      "cell_type": "code",
      "source": [
        "#Mini-NN to recommend videos based on titles - Sloane\n",
        "from transformers import AutoTokenizer, AutoModel\n",
        "import torch\n",
        "import numpy as np\n",
        "\n",
        "\n",
        "video_titles = [                                                                #created a sample list of video titles using 3 separate\n",
        "    \"Learn Python Programming\",                                                 #languages: Java, Python, and Swift. Each language also\n",
        "    \"Introduction to Machine Learning\",                                         #focuses on a specific task. Java focuses on game dev., Python\n",
        "    \"Advanced Deep Learning Techniques\",                                        #focuses on machine learning, and Swift focuses on app development.\n",
        "    \"Data Science for Beginners\",\n",
        "    \"Understanding Artificial Intelligence\",\n",
        "    \"Python for Data Analysis\",\n",
        "    \"Getting Started with Game Development in Java\",                            #i used a list to implemenet these instead of referencing a csv file\n",
        "    \"Building a Simple 2D Game in Java: A Beginner’s Guide\",                    #for time purposes and to avoid any issues with referencing.\n",
        "    \"Java Game Development: Creating a Basic Platformer\",\n",
        "    \"Top 10 Game Development Libraries for Java\",\n",
        "    \"Getting Started with Swift for iOS App Development\",\n",
        "    \"Building a To-Do List App with SwiftUI\",\n",
        "    \"Understanding MVVM Architecture in Swift\",\n",
        "    \"Creating Beautiful Animations in SwiftUI\",\n",
        "    \"Core Data Basics: Building a Notes App in Swift\",\n",
        "    \"How to Implement Dark Mode in Your Swift Apps\",\n",
        "]\n",
        "\n",
        "\n",
        "tokenizer = AutoTokenizer.from_pretrained(\"sentence-transformers/all-MiniLM-L6-v2\")\n",
        "model = AutoModel.from_pretrained(\"sentence-transformers/all-MiniLM-L6-v2\")               #using BERT for the NN\n",
        "\n",
        "#function to embed titles\n",
        "def embed_titles(titles):\n",
        "    tokens = tokenizer(titles, padding=True, truncation=True, return_tensors=\"pt\")\n",
        "    with torch.no_grad():\n",
        "        embeddings = model(**tokens)\n",
        "    return embeddings.last_hidden_state.mean(dim=1)\n",
        "\n",
        "#generate embeddings for video titles\n",
        "title_embeddings = embed_titles(video_titles).numpy()\n",
        "\n",
        "#compute cosine similarity between embeddings\n",
        "cos_sim_nn = cosine_similarity(title_embeddings, title_embeddings)\n",
        "\n",
        "#function to recommend videos using neural embeddings\n",
        "def display_similarity_nn(input_title, video_titles, embeddings, top_n=3):\n",
        "    if input_title not in video_titles:\n",
        "        return \"Title not found in the dataset.\"\n",
        "\n",
        "    idx = video_titles.index(input_title)\n",
        "    similarity_scores = list(enumerate(cos_sim_nn[idx]))\n",
        "    sorted_scores = sorted(similarity_scores, key=lambda x: x[1], reverse=True)\n",
        "\n",
        "    print(f\"Input Title: '{input_title}'\")\n",
        "    for i, score in sorted_scores[1 : top_n + 1]:  #exclude the input itself\n",
        "        print(f\"  - Similar to '{video_titles[i]}': {score:.2f}\")\n",
        "\n",
        "#randomly select a title and display recommendations\n",
        "input_title = random.choice(video_titles)\n",
        "display_similarity_nn(input_title, video_titles, title_embeddings)\n"
      ],
      "metadata": {
        "id": "cvvv35tbQTIk",
        "colab": {
          "base_uri": "https://localhost:8080/"
        },
        "outputId": "c41c8ba1-4e19-42d3-e53a-ef4f615d0aca"
      },
      "execution_count": null,
      "outputs": [
        {
          "output_type": "stream",
          "name": "stdout",
          "text": [
            "Input Title: 'Introduction to Machine Learning'\n",
            "  - Similar to 'Advanced Deep Learning Techniques': 0.71\n",
            "  - Similar to 'Data Science for Beginners': 0.66\n",
            "  - Similar to 'Understanding Artificial Intelligence': 0.64\n"
          ]
        }
      ]
    },
    {
      "cell_type": "markdown",
      "source": [
        "The mini neural network's code that I made is able to appropriately recommend YouTube videos and correctly calculate the similarity scores. I believe there may be several reasons why our main code was unable to do this.\n",
        "\n",
        "\n",
        "1.   Overfitting - The train loss on our neural network model was very low, which is causing overfitting to happen.\n",
        "2.   Referencing - Our dataset we were using was much bigger than the simple list I implemented in the dummy code, and I believe with the size of the dataset and the few complications we faced when trying to refernece it could have had an impact on the output of our code.\n",
        "\n",
        "\n",
        "Overall, we were able to get a working model based off of neural networks with Euclidean distance, and we can work on getting our cosine similartiy in our main NN model to function correctly in the future!\n",
        "\n",
        "--Sloane\n",
        "\n"
      ],
      "metadata": {
        "id": "5xeSgiv0SOhm"
      }
    }
  ],
  "metadata": {
    "colab": {
      "provenance": [],
      "include_colab_link": true
    },
    "kernelspec": {
      "display_name": "Python 3",
      "name": "python3"
    },
    "language_info": {
      "name": "python"
    }
  },
  "nbformat": 4,
  "nbformat_minor": 0
}